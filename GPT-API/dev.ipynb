{
 "cells": [
  {
   "cell_type": "code",
   "execution_count": 1,
   "metadata": {},
   "outputs": [],
   "source": [
    "from openai import OpenAI\n",
    "import os\n",
    "import datetime\n",
    "import json\n",
    "\n",
    "from topic_defintions import topic_definitions\n",
    "from example_response_dictionary import party_responses\n",
    "\n",
    "import pprint\n",
    "import json\n",
    "import ast\n",
    "import re"
   ]
  },
  {
   "cell_type": "code",
   "execution_count": 2,
   "metadata": {},
   "outputs": [],
   "source": [
    "client = OpenAI(api_key=\"HIDDEN\")\n",
    "\n",
    "# client = OpenAI(api_key=os.environ[\"OPENAI_API_KEY\"])"
   ]
  },
  {
   "cell_type": "markdown",
   "metadata": {},
   "source": [
    "# ChatGPT API Function Call"
   ]
  },
  {
   "cell_type": "code",
   "execution_count": 3,
   "metadata": {},
   "outputs": [],
   "source": [
    "LOG_PATH = \"response_log.jsonl\" \n",
    "\n",
    "def ask_gpt_with_search(prompt, model=\"gpt-4.1\", log_path=LOG_PATH):\n",
    "    # Make the request\n",
    "    response = client.responses.create(\n",
    "        model=model,\n",
    "        tools=[{\"type\": \"web_search_preview\"}],\n",
    "        input=prompt,\n",
    "    )\n",
    "\n",
    "    output = response.output_text\n",
    "\n",
    "    # Try to extract sources from tool_uses\n",
    "    sources = []\n",
    "    if hasattr(response, \"tool_uses\") and response.tool_uses:\n",
    "        for tool_use in response.tool_uses:\n",
    "            if getattr(tool_use.tool_call, \"type\", None) == \"web_search_preview\":\n",
    "                results = tool_use.outputs.get(\"results\", [])\n",
    "                for result in results:\n",
    "                    sources.append({\n",
    "                        \"title\": result.get(\"title\"),\n",
    "                        \"url\": result.get(\"url\"),\n",
    "                        \"snippet\": result.get(\"snippet\")\n",
    "                    })\n",
    "\n",
    "    # Log it\n",
    "    log_entry = {\n",
    "        \"timestamp\": datetime.datetime.utcnow().isoformat(),\n",
    "        \"model\": model,\n",
    "        # \"prompt\": prompt,\n",
    "        \"output\": output,\n",
    "        \"sources\": sources\n",
    "    }\n",
    "\n",
    "    with open(log_path, \"a\") as f:\n",
    "        f.write(json.dumps(log_entry) + \"\\n\")\n",
    "\n",
    "    return output\n"
   ]
  },
  {
   "cell_type": "markdown",
   "metadata": {},
   "source": [
    "# Topic Definitions"
   ]
  },
  {
   "cell_type": "code",
   "execution_count": 2,
   "metadata": {},
   "outputs": [],
   "source": [
    "Economic = \"\"\"\n",
    "Economic Policies\n",
    "\"Taxation\": \n",
    "    -1:\"Flat taxes, minimal redistribution, low corporate tax rates\",\n",
    "    1:\"Progressive taxation, wealth taxes, high redistribution\"\n",
    "\"Spending\": \n",
    "    -1:\"Austerity, reduce government spending, privatization\",\n",
    "    1:\"Expansive public investment, social programs, stimulus spending\"\n",
    "\"MinimumWage\": \n",
    "    -1:\"Abolish or minimize minimum wage; let markets decide\",\n",
    "    1:\"Substantially increase minimum wage; living wage guarantees\"\n",
    "\"FiscalDiscipline\": \n",
    "    -1:\"Low debt tolerance, strict balanced budgets, cut deficits\",\n",
    "    1:\"Flexible deficits to support social or environmental goals\"\n",
    "\"LabourPolicy\": \n",
    "    -1:\"Limit union power; flexible labor markets\",\n",
    "    1:\"Strengthen unions, protections for gig economy and low-wage workers\"\n",
    "\"\"\"\n",
    "Social1 = \"\"\"\n",
    "Social Policies \n",
    "\"Healthcare\":\n",
    "    -1:\"Privatized healthcare system, minimal public provision\",\n",
    "    1:\"Fully public healthcare with universal access\"\n",
    "\"Education\": \n",
    "    -1:\"Privatized schools, school choice, reduced state role\",\n",
    "    1:\"Public education as a right, tuition-free post-secondary\"\n",
    "\"CurriculumControl\": \n",
    "    -1:\"Parents should have strong oversight; restrict identity/sexuality content in K-12\",\n",
    "    1:\"Support inclusive curriculum reflecting social diversity; trust educators\"\n",
    "\"Housing\": \n",
    "    -1:\"Let the market solve housing; deregulation, tax credits\",\n",
    "    1:\"Aggressive public housing, rent control, zoning reform\"\n",
    "\"Indigenous\": \n",
    "    -1:\"Equal treatment under Canadian law, no special recognition\",\n",
    "    1:\"Nation-to-nation status, land restitution, UNDRIP adoption\"\n",
    "\"\"\"\n",
    "Social2 = \"\"\"\n",
    "Social Policies\n",
    "\"Immigration\":\n",
    "    -1:\"Tightly restricted immigration, values screening\",\n",
    "    1:\"High skilled and humanitarian immigration, multiculturalism\"\n",
    "\"LGBTQ\":\n",
    "    -1:\"Limit government support; oppose education/mandates\",\n",
    "    1:\"Strong legal protections, cultural support, inclusive policy\"\n",
    "\"Drugs\": \n",
    "    -1:\"Criminalize drug use, tough on crime, no harm reduction\",\n",
    "    1:\"View addiction as public health issue, harm reduction\n",
    "\"DEI\":\n",
    "    -1:\"Opposes DEI mandates; prefers individual merit, colorblind approaches\",\n",
    "    1:\"Strongly supports DEI programs; believes systemic disparities require proactive correction\"\n",
    "\"\"\"\n",
    "Environment = \"\"\"\n",
    "Environmental Policies\n",
    "\"Emissions\": \n",
    "    -1:\"Avoid emissions caps; prioritize economic growth\",\n",
    "    1:\"Aggressively reduce emissions, international targets\"\n",
    "\"CarbonTax\":\n",
    "    -1:\"No carbon tax; burdens citizens and business\",\n",
    "    1:\"Carbon tax is essential market solution to climate change\"\n",
    "\"FossilFuels\":\n",
    "    -1:\"Support oil/gas industry, reduce regulation, pipelines\",\n",
    "    1:\"Phase out fossil fuels, divestment, end subsidies\"\n",
    "\"GreenInvestment\":\n",
    "    -1:\"Let market innovate green tech on its own\",\n",
    "    1:\"Government should invest heavily in green transition\"\n",
    "\"\"\"\n",
    "Foreign1 = \"\"\"\n",
    "Foreign Policy\n",
    "\"SpendingMilitary\":\n",
    "    -1:\"Cut military spending, avoid foreign entanglements\",\n",
    "    1:\"Increase defense funding, strong global presence\"\n",
    "\"RefugeePolicy\":\n",
    "    -1:\"Tight border controls; reduce intake to preserve resources and safety\",\n",
    "    1:\"Expand humanitarian response; Canada has global responsibility\"\n",
    "\"Aid\": \n",
    "    -1:\"Reduce foreign aid, focus on domestic issues\",\n",
    "    1:\"Expand international aid, climate and human rights\"\n",
    "\"\"\"\n",
    "Foreign2 = \"\"\"\n",
    "Foreign Policy\n",
    "\"Trade\":\n",
    "    -1:\"Protect domestic industry, skeptical of globalization\",\n",
    "    1:\"Pro free trade, liberalize markets, global partnerships\"\n",
    "\"IsraelPalestine\":\n",
    "    -1:\"Unconditional support for Israel, skeptical of Palestine\",\n",
    "    1:\"Strong defense of Palestinian rights, cease occupation\"\n",
    "\"UkraineRussia\":\n",
    "    -1:\"Stay neutral or reduce involvement\",\n",
    "    1:\"Strong support for Ukraine against Russian aggression\"\n",
    "\"\"\"\n",
    "Justice = \"\"\"\n",
    "Justice and Law Enforcement Policies\n",
    "\"CriminalJustice\": \n",
    "    -1:\"Tough on crime, longer sentences, more policing\",\n",
    "    1:\"Restorative justice, address systemic causes\"\n",
    "\"FreeSpeech\": \n",
    "    -1:\"Minimal regulation; platform and individual freedom paramount\",\n",
    "    1:\"Government oversight of speech to reduce harm/misinformation\"\n",
    "\"PoliceReform\": \n",
    "    -1:\"Expand funding and tools for policing; prioritize enforcement and public order\",\n",
    "    1:\"Reform or reduce police funding; invest in alternatives like mental health and community response\"\n",
    "\"ReligiousLiberty\":\n",
    "    -1:\"Strongly protects freedom of religion in all domains; faith-based institutions and expression should be fully accommodated\",\n",
    "    1:\"Supports strict secularism; limits religious expression in public institutions {e.g. bans on symbols, prayer}\"\n",
    "\"\"\"\n",
    "Science = \"\"\"\n",
    "\"Research\": \n",
    "    -1:\"Private sector should fund most research\",\n",
    "    1:\"Publicly funded science is essential to progress\"\n",
    "\"AI\": \n",
    "    -1:\"Let industry regulate itself; avoid overregulation\",\n",
    "    1:\"Proactive government regulation and AI investment\"\n",
    "\"Internet\": \n",
    "    -1:\"Market-driven infrastructure; minimal subsidies\",\n",
    "    1:\"Universal internet access as a public good\"\n",
    "\"Privacy\": \n",
    "    -1:\"Minimal regulation of corporate or state data collection; prioritize security and innovation\",\n",
    "    1:\"Strict data protection laws; transparency and user consent are fundamental rights\"\n",
    "\"\"\"\n",
    "Goverenence = \"\"\"\n",
    "\"Electoral\": \n",
    "    -1:\"Status quo Firt Past the Post; no need for reform\",\n",
    "    1:\"Proportional representation, electoral modernization\"\n",
    "\"Transparency\": \n",
    "    -1:\"Minimal public reporting; prioritize security\",\n",
    "    1:\"Government must be transparent and accountable\"\n",
    "\"Federalism\": \n",
    "    -1:\"Strong centralized federal government\",\n",
    "    1:\"More power and autonomy to provinces\"\n",
    "\"\"\""
   ]
  },
  {
   "cell_type": "code",
   "execution_count": 3,
   "metadata": {},
   "outputs": [],
   "source": [
    "# combine strings into an iterable dictionary\n",
    "policy_strings = {\n",
    "    \"Economic\": Economic,\n",
    "    \"Social1\": Social1,\n",
    "    \"Social2\": Social2,\n",
    "    \"Environment\": Environment,\n",
    "    \"Foreign1\": Foreign1,\n",
    "    \"Foreign2\": Foreign2,\n",
    "    \"Justice\": Justice,\n",
    "    \"Science\": Science,\n",
    "    \"Goverenence\": Goverenence\n",
    "}"
   ]
  },
  {
   "cell_type": "markdown",
   "metadata": {},
   "source": [
    "# Prompt for Vote Compass"
   ]
  },
  {
   "cell_type": "code",
   "execution_count": 4,
   "metadata": {},
   "outputs": [],
   "source": [
    "def generate_prompt(party_name, topic_string):\n",
    "    return f\"\"\"\n",
    "You are an assistant tasked with estimating where the **{party_name}** stands on a range of Canadian policy subtopics.\n",
    "\n",
    "Each subtopic has been defined using a fixed ideological scale from -1.0 to 1.0:\n",
    "\n",
    "- **-1.0** corresponds to strong alignment with the conservative, libertarian, or right-leaning interpretation.\n",
    "- **+1.0** corresponds to strong alignment with the progressive, interventionist, or left-leaning interpretation.\n",
    "\n",
    "Each subtopic is anchored by opposing ideological descriptions, as shown in the dictionary `topic_definitions`. Each entry includes:\n",
    "- A description for `-1`\n",
    "- A description for `1`\n",
    "- Where 0 is assimed to be the status quo or neutral position.\n",
    "\n",
    "{topic_string}\n",
    "\n",
    "---\n",
    "\n",
    "Your task is to:\n",
    "1. Use only **recent, credible, and verifiable sources** (e.g. party platforms, official websites, news outlets, voting records), prioritizing content from **2023–2025**.\n",
    "2. Remain **completely unbiased** and analytical.\n",
    "3. If a party’s stance falls within a range (e.g. 0.5–0.6), round conservatively to the **lower bound**.\n",
    "4. For each subtopic:\n",
    "   - Determine the party's position on the subtopic using the definitions provided and assign a numerical value based on the topic scale between -1 and 1.\n",
    "   - Avoid extreme -1 or 1 unless the party's position is unequivocally aligned with those extremes.\n",
    "   - If the party's position is unclear or not well-defined, assign a value of **0.0**.\n",
    "\n",
    "---\n",
    "\n",
    "Your response needs to be in the following format:\n",
    "1. Subtopic name \n",
    "    - \"Justification: <A short one sentence justification for the position.>\"\n",
    "    - \"Position: <A numerical value between -1 and 1>\"\n",
    "2. Repeat for each subtopic.\n",
    "3. End each answer with a python dictionary containing the subtopic names and their corresponding positions.\n",
    "\n",
    "Note:\n",
    "- The numerical value for each subtopic position. Ensure that you provide a numerical value for each subtopic position, even if you are unsure.\n",
    "- Ensure that you include a position. If there is no information online simple set the position to 0.0.\n",
    "\n",
    "Begin your analysis for the **{party_name}** now.\n",
    "\"\"\""
   ]
  },
  {
   "cell_type": "markdown",
   "metadata": {},
   "source": [
    "## Extraction the results"
   ]
  },
  {
   "cell_type": "code",
   "execution_count": 8,
   "metadata": {},
   "outputs": [],
   "source": [
    "def extract_final_position_dicts(log_path=\"response_log.jsonl\", output_txt=\"final_positions.txt\"):\n",
    "    with open(log_path, \"r\") as f:\n",
    "        lines = f.readlines()\n",
    "\n",
    "    all_positions = []\n",
    "\n",
    "    for line in lines:\n",
    "        data = json.loads(line)\n",
    "        output = data.get(\"output\", \"\")\n",
    "\n",
    "        # Extract the dictionary inside the triple-backtick Python block\n",
    "        match = re.search(r\"```python\\s*\\n(.*?)```\", output, re.DOTALL)\n",
    "        if not match:\n",
    "            continue  # skip if no block found\n",
    "\n",
    "        dict_str = match.group(1).strip()\n",
    "\n",
    "        try:\n",
    "            parsed = ast.literal_eval(dict_str)\n",
    "            for subtopic, position in parsed.items():\n",
    "                all_positions.append({\n",
    "                    \"subtopic\": subtopic,\n",
    "                    \"position\": float(position)\n",
    "                })\n",
    "        except Exception as e:\n",
    "            print(f\"Failed to parse dictionary in one entry: {e}\")\n",
    "            continue\n",
    "\n",
    "    # Write to .txt\n",
    "    with open(output_txt, \"w\") as f:\n",
    "        for entry in all_positions:\n",
    "            f.write(f\"subtopic: {entry['subtopic']}\\n\")\n",
    "            f.write(f\"position: {entry['position']}\\n\\n\")\n",
    "\n",
    "    print(f\"Extracted {len(all_positions)} subtopic positions to {output_txt}\")"
   ]
  },
  {
   "cell_type": "markdown",
   "metadata": {},
   "source": [
    "# Test the API"
   ]
  },
  {
   "cell_type": "code",
   "execution_count": 9,
   "metadata": {},
   "outputs": [
    {
     "name": "stderr",
     "output_type": "stream",
     "text": [
      "/var/folders/71/rd8s6g0x52sd1l6wnf9_z6_r0000gn/T/ipykernel_78734/3031492725.py:28: DeprecationWarning: datetime.datetime.utcnow() is deprecated and scheduled for removal in a future version. Use timezone-aware objects to represent datetimes in UTC: datetime.datetime.now(datetime.UTC).\n",
      "  \"timestamp\": datetime.datetime.utcnow().isoformat(),\n"
     ]
    },
    {
     "name": "stdout",
     "output_type": "stream",
     "text": [
      "Finished Economic\n",
      "Finished Social1\n",
      "Finished Social2\n",
      "Finished Environment\n",
      "Finished Foreign1\n",
      "Finished Foreign2\n",
      "Finished Justice\n",
      "Finished Science\n",
      "Finished Goverenence\n",
      "Extracted 32 subtopic positions to liberal.txt\n"
     ]
    }
   ],
   "source": [
    "# iterate through the topics and add responses to the dictionary\n",
    "LOG_PATH = \"liberal_responses.jsonl\" \n",
    "\n",
    "party_name = \"liberal party of Canada\"\n",
    "\n",
    "for key, value in policy_strings.items():\n",
    "    prompt = generate_prompt(party_name, value)\n",
    "    output = ask_gpt_with_search(prompt, model=\"gpt-4.1\", log_path=LOG_PATH)\n",
    "    print(f\"Finished {key}\")\n",
    "\n",
    "extract_final_position_dicts(log_path=\"liberal_responses.jsonl\", output_txt=\"liberal.txt\")"
   ]
  },
  {
   "cell_type": "code",
   "execution_count": 10,
   "metadata": {},
   "outputs": [
    {
     "name": "stderr",
     "output_type": "stream",
     "text": [
      "/var/folders/71/rd8s6g0x52sd1l6wnf9_z6_r0000gn/T/ipykernel_78734/3031492725.py:28: DeprecationWarning: datetime.datetime.utcnow() is deprecated and scheduled for removal in a future version. Use timezone-aware objects to represent datetimes in UTC: datetime.datetime.now(datetime.UTC).\n",
      "  \"timestamp\": datetime.datetime.utcnow().isoformat(),\n"
     ]
    },
    {
     "name": "stdout",
     "output_type": "stream",
     "text": [
      "Finished Economic\n",
      "Finished Social1\n",
      "Finished Social2\n",
      "Finished Environment\n",
      "Finished Foreign1\n",
      "Finished Foreign2\n",
      "Finished Justice\n",
      "Finished Science\n",
      "Finished Goverenence\n",
      "Extracted 35 subtopic positions to conservative.txt\n"
     ]
    }
   ],
   "source": [
    "# iterate through the topics and add responses to the dictionary\n",
    "LOG_PATH = \"conservative_responses.jsonl\" \n",
    "\n",
    "party_name = \"conservative party of Canada\"\n",
    "\n",
    "for key, value in policy_strings.items():\n",
    "    prompt = generate_prompt(party_name, value)\n",
    "    output = ask_gpt_with_search(prompt, model=\"gpt-4.1\", log_path=LOG_PATH)\n",
    "    print(f\"Finished {key}\")\n",
    "\n",
    "extract_final_position_dicts(log_path=\"conservative_responses.jsonl\", output_txt=\"conservative.txt\")"
   ]
  },
  {
   "cell_type": "code",
   "execution_count": 11,
   "metadata": {},
   "outputs": [
    {
     "name": "stderr",
     "output_type": "stream",
     "text": [
      "/var/folders/71/rd8s6g0x52sd1l6wnf9_z6_r0000gn/T/ipykernel_78734/3031492725.py:28: DeprecationWarning: datetime.datetime.utcnow() is deprecated and scheduled for removal in a future version. Use timezone-aware objects to represent datetimes in UTC: datetime.datetime.now(datetime.UTC).\n",
      "  \"timestamp\": datetime.datetime.utcnow().isoformat(),\n"
     ]
    },
    {
     "name": "stdout",
     "output_type": "stream",
     "text": [
      "Finished Economic\n",
      "Finished Social1\n",
      "Finished Social2\n",
      "Finished Environment\n",
      "Finished Foreign1\n",
      "Finished Foreign2\n",
      "Finished Justice\n",
      "Finished Science\n",
      "Finished Goverenence\n",
      "Extracted 35 subtopic positions to ndp.txt\n"
     ]
    }
   ],
   "source": [
    "# iterate through the topics and add responses to the dictionary\n",
    "LOG_PATH = \"ndp_responses.jsonl\" \n",
    "\n",
    "party_name = \"new democratic party of Canada\"\n",
    "\n",
    "for key, value in policy_strings.items():\n",
    "    prompt = generate_prompt(party_name, value)\n",
    "    output = ask_gpt_with_search(prompt, model=\"gpt-4.1\", log_path=LOG_PATH)\n",
    "    print(f\"Finished {key}\")\n",
    "\n",
    "extract_final_position_dicts(log_path=\"ndp_responses.jsonl\", output_txt=\"ndp.txt\")"
   ]
  },
  {
   "cell_type": "markdown",
   "metadata": {},
   "source": [
    "# Get the justifications"
   ]
  },
  {
   "cell_type": "code",
   "execution_count": 15,
   "metadata": {},
   "outputs": [],
   "source": [
    "def extract_justification_blocks(\n",
    "    log_path=\"response_log.jsonl\",\n",
    "    justifications_txt=\"justifications.txt\"\n",
    "):\n",
    "    with open(log_path, \"r\") as f:\n",
    "        lines = f.readlines()\n",
    "\n",
    "    all_blocks = []\n",
    "\n",
    "    for line in lines:\n",
    "        data = json.loads(line)\n",
    "        output = data.get(\"output\", \"\")\n",
    "\n",
    "        # Match everything that looks like: 1. **Subtopic**\\n   - Justification: ...\\n   - Position: ...\n",
    "        blocks = re.findall(\n",
    "            r\"\\d+\\.\\s+\\*\\*(.*?)\\*\\*\\n(.*?)(?=\\n\\d+\\.|\\Z)\",\n",
    "            output,\n",
    "            re.DOTALL\n",
    "        )\n",
    "\n",
    "        for subtopic, body in blocks:\n",
    "            all_blocks.append({\n",
    "                \"subtopic\": subtopic.strip(),\n",
    "                \"text\": body.strip()\n",
    "            })\n",
    "\n",
    "    # Write to text file\n",
    "    with open(justifications_txt, \"w\") as f:\n",
    "        for entry in all_blocks:\n",
    "            f.write(f\"subtopic: {entry['subtopic']}\\n\")\n",
    "            f.write(entry['text'] + \"\\n\\n\")\n",
    "\n",
    "    print(f\"Exported {len(all_blocks)} justification blocks to {justifications_txt}\")\n"
   ]
  },
  {
   "cell_type": "code",
   "execution_count": 16,
   "metadata": {},
   "outputs": [
    {
     "name": "stdout",
     "output_type": "stream",
     "text": [
      "Exported 35 justification blocks to liberal_justifications.txt\n",
      "Exported 35 justification blocks to conservative_justifications.txt\n",
      "Exported 35 justification blocks to ndp_justifications.txt\n"
     ]
    }
   ],
   "source": [
    "extract_justification_blocks(\n",
    "    log_path=\"liberal_responses.jsonl\",\n",
    "    justifications_txt=\"liberal_justifications.txt\"\n",
    ")\n",
    "\n",
    "extract_justification_blocks(\n",
    "    log_path=\"conservative_responses.jsonl\",\n",
    "    justifications_txt=\"conservative_justifications.txt\"\n",
    ")\n",
    "\n",
    "extract_justification_blocks(\n",
    "    log_path=\"ndp_responses.jsonl\",\n",
    "    justifications_txt=\"ndp_justifications.txt\"\n",
    ")"
   ]
  },
  {
   "cell_type": "markdown",
   "metadata": {},
   "source": [
    "# Turn into dictionaries"
   ]
  },
  {
   "cell_type": "code",
   "execution_count": 16,
   "metadata": {},
   "outputs": [],
   "source": [
    "def update_party_responses_from_txt(party_responses, txt_path):\n",
    "    # Read and extract subtopic–position pairs\n",
    "    with open(txt_path, \"r\") as f:\n",
    "        text = f.read()\n",
    "\n",
    "    # Find all subtopic-position pairs\n",
    "    matches = re.findall(r\"subtopic:\\s*(.*?)\\nposition:\\s*([+-]?[0-9]*\\.?[0-9]+)\", text)\n",
    "\n",
    "    for subtopic, pos_str in matches:\n",
    "        position = float(pos_str)\n",
    "        found = False\n",
    "\n",
    "        for category in party_responses:\n",
    "            if subtopic in party_responses[category]:\n",
    "                party_responses[category][subtopic][\"position\"] = position\n",
    "                found = True\n",
    "                break\n",
    "\n",
    "        if not found:\n",
    "            print(f\"[WARNING] Subtopic '{subtopic}' not found in any category.\")\n",
    "\n",
    "    return party_responses\n",
    "\n"
   ]
  },
  {
   "cell_type": "code",
   "execution_count": 17,
   "metadata": {},
   "outputs": [],
   "source": [
    "import copy\n",
    "\n",
    "ndp_positions = update_party_responses_from_txt(copy.deepcopy(party_responses), \"ndp.txt\")\n",
    "liberal_positions = update_party_responses_from_txt(copy.deepcopy(party_responses), \"liberal.txt\")\n",
    "conservative_positions = update_party_responses_from_txt(copy.deepcopy(party_responses), \"conservative.txt\")"
   ]
  },
  {
   "cell_type": "markdown",
   "metadata": {},
   "source": [
    "# Save the Data"
   ]
  },
  {
   "cell_type": "code",
   "execution_count": 23,
   "metadata": {},
   "outputs": [],
   "source": [
    "import pickle\n",
    "\n",
    "with open('../data/GPT_liberal.pkl', 'wb') as f:\n",
    "    pickle.dump(liberal_positions, f)\n",
    "\n",
    "with open('../data/GPT_ndp.pkl', 'wb') as f:\n",
    "    pickle.dump(ndp_positions, f)\n",
    "\n",
    "with open('../data/GPT_conservative.pkl', 'wb') as f:\n",
    "    pickle.dump(conservative_positions, f)"
   ]
  },
  {
   "cell_type": "code",
   "execution_count": null,
   "metadata": {},
   "outputs": [],
   "source": []
  }
 ],
 "metadata": {
  "kernelspec": {
   "display_name": "physenv",
   "language": "python",
   "name": "python3"
  },
  "language_info": {
   "codemirror_mode": {
    "name": "ipython",
    "version": 3
   },
   "file_extension": ".py",
   "mimetype": "text/x-python",
   "name": "python",
   "nbconvert_exporter": "python",
   "pygments_lexer": "ipython3",
   "version": "3.12.5"
  }
 },
 "nbformat": 4,
 "nbformat_minor": 2
}
